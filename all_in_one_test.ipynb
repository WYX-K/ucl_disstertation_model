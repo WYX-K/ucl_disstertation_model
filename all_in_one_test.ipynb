{
 "cells": [
  {
   "cell_type": "markdown",
   "metadata": {},
   "source": [
    "# Load Data"
   ]
  },
  {
   "cell_type": "code",
   "execution_count": 1,
   "metadata": {},
   "outputs": [],
   "source": [
    "from utils import *\n",
    "\n",
    "patients = data_preprocessing('AE_Visit_example20k.csv')\n",
    "X_train, X_test, y_train, y_test = split_data(patients)"
   ]
  },
  {
   "cell_type": "code",
   "execution_count": 2,
   "metadata": {},
   "outputs": [],
   "source": [
    "from my_model import MyModel\n",
    "\n",
    "from lstm_model import LSTM\n",
    "from lightgbm import LGBMClassifier\n",
    "from xgboost import XGBClassifier\n",
    "from sklearn.ensemble import RandomForestClassifier\n",
    "\n",
    "params = {'hidden_size': 64, 'lr': 0.001, 'num_epochs': 500, 'region_embedding_dim': 16,\n",
    "          'time_embedding_dim': 32, 'batch_size': 20000}\n",
    "\n",
    "xgb_params = {\n",
    "    'n_estimators': 500,\n",
    "    'learning_rate': 0.01,\n",
    "    'tree_method': \"hist\",\n",
    "    'objective': 'multi:softmax',  # 使用softmax多分类目标函数\n",
    "    'num_class': 3,  # 设置类别数为3\n",
    "}\n",
    "\n",
    "lgb_params = {\n",
    "    'objective': 'multiclass',\n",
    "    'num_class': 3,\n",
    "    'learning_rate': 0.01,\n",
    "}"
   ]
  },
  {
   "cell_type": "markdown",
   "metadata": {},
   "source": [
    "# LSTM + XGBM"
   ]
  },
  {
   "cell_type": "code",
   "execution_count": 3,
   "metadata": {},
   "outputs": [],
   "source": [
    "myLSTM = LSTM(vocab_size=20, region_embedding_dim=params['region_embedding_dim'],\n",
    "              time_embedding_dim=params['time_embedding_dim'], hidden_size=params['hidden_size'], output_size=3)\n",
    "xgb_classifier = XGBClassifier(**xgb_params)\n",
    "my_model = MyModel(myLSTM, xgb_classifier, params)\n",
    "lstm, xgb = my_model.train(X_train, y_train, show_loss=True)\n",
    "predict_proba, labels = my_model.evaluate(lstm, xgb, X_test, y_test)\n",
    "draw_roc_curve(predict_proba, labels, 'lstm_xgb')\n",
    "# my_model.save_model(lstm, xgb, 'lstm', 'xgb')"
   ]
  },
  {
   "cell_type": "markdown",
   "metadata": {},
   "source": [
    "# LSTM + LightGBM"
   ]
  },
  {
   "cell_type": "code",
   "execution_count": null,
   "metadata": {},
   "outputs": [],
   "source": [
    "myLSTM = LSTM(vocab_size=20, region_embedding_dim=params['region_embedding_dim'],\n",
    "              time_embedding_dim=params['time_embedding_dim'], hidden_size=params['hidden_size'], output_size=3)\n",
    "lgb_classifier = LGBMClassifier(**lgb_params)\n",
    "my_model = MyModel(myLSTM, lgb_classifier, params)\n",
    "lstm, lgb = my_model.train(X_train, y_train)\n",
    "predict_proba, labels = my_model.evaluate(lstm, lgb, X_test, y_test)\n",
    "draw_roc_curve(predict_proba, labels, 'lstm_lgb')"
   ]
  },
  {
   "cell_type": "markdown",
   "metadata": {},
   "source": [
    "# LSTM + Random Forest"
   ]
  },
  {
   "cell_type": "code",
   "execution_count": null,
   "metadata": {},
   "outputs": [],
   "source": [
    "myLSTM = LSTM(vocab_size=20, region_embedding_dim=params['region_embedding_dim'],\n",
    "              time_embedding_dim=params['time_embedding_dim'], hidden_size=params['hidden_size'], output_size=3)\n",
    "rf_classifier = RandomForestClassifier(n_estimators=300)\n",
    "my_model = MyModel(myLSTM, rf_classifier, params)\n",
    "lstm, rf = my_model.train(X_train, y_train)\n",
    "predict_proba, labels = my_model.evaluate(lstm, rf, X_test, y_test)\n",
    "draw_roc_curve(predict_proba, labels, 'lstm_rf')"
   ]
  },
  {
   "cell_type": "markdown",
   "metadata": {},
   "source": [
    "# Only LightGBM"
   ]
  },
  {
   "cell_type": "code",
   "execution_count": null,
   "metadata": {},
   "outputs": [],
   "source": [
    "lgb_classifier = LGBMClassifier(**lgb_params)\n",
    "lgb_classifier.fit(X_train, y_train)\n",
    "predict_proba = lgb_classifier.predict_proba(X_test)\n",
    "draw_roc_curve(predict_proba, y_test, 'lgb')"
   ]
  },
  {
   "cell_type": "markdown",
   "metadata": {},
   "source": [
    "# Only XGBM"
   ]
  },
  {
   "cell_type": "code",
   "execution_count": null,
   "metadata": {},
   "outputs": [],
   "source": [
    "xgb_classifier = XGBClassifier(**xgb_params)\n",
    "xgb_classifier.fit(X_train, y_train)\n",
    "predict_proba = xgb_classifier.predict_proba(X_test)\n",
    "draw_roc_curve(predict_proba, y_test, 'xgb')"
   ]
  },
  {
   "cell_type": "markdown",
   "metadata": {},
   "source": [
    "# Only Random Forest"
   ]
  },
  {
   "cell_type": "code",
   "execution_count": null,
   "metadata": {},
   "outputs": [],
   "source": [
    "rf.fit(X_train, y_train)\n",
    "predict_proba = rf.predict_proba(X_test)\n",
    "draw_roc_curve(predict_proba, y_test, 'rf')"
   ]
  }
 ],
 "metadata": {
  "kernelspec": {
   "display_name": "fyp",
   "language": "python",
   "name": "python3"
  },
  "language_info": {
   "codemirror_mode": {
    "name": "ipython",
    "version": 3
   },
   "file_extension": ".py",
   "mimetype": "text/x-python",
   "name": "python",
   "nbconvert_exporter": "python",
   "pygments_lexer": "ipython3",
   "version": "3.12.1"
  }
 },
 "nbformat": 4,
 "nbformat_minor": 2
}
